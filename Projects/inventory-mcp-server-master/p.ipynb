{
 "cells": [
  {
   "cell_type": "code",
   "execution_count": 2,
   "id": "f4e85740",
   "metadata": {},
   "outputs": [
    {
     "name": "stdout",
     "output_type": "stream",
     "text": [
      "Collecting mcp\n",
      "  Downloading mcp-1.13.1-py3-none-any.whl.metadata (74 kB)\n",
      "Requirement already satisfied: anyio>=4.5 in /Users/gvijaykumarachary/.pyenv/versions/3.10.13/lib/python3.10/site-packages (from mcp) (4.9.0)\n",
      "Collecting httpx-sse>=0.4 (from mcp)\n",
      "  Downloading httpx_sse-0.4.1-py3-none-any.whl.metadata (9.4 kB)\n",
      "Requirement already satisfied: httpx>=0.27.1 in /Users/gvijaykumarachary/.pyenv/versions/3.10.13/lib/python3.10/site-packages (from mcp) (0.28.1)\n",
      "Requirement already satisfied: jsonschema>=4.20.0 in /Users/gvijaykumarachary/.pyenv/versions/3.10.13/lib/python3.10/site-packages (from mcp) (4.24.0)\n",
      "Requirement already satisfied: pydantic-settings>=2.5.2 in /Users/gvijaykumarachary/.pyenv/versions/3.10.13/lib/python3.10/site-packages (from mcp) (2.10.1)\n",
      "Requirement already satisfied: pydantic<3.0.0,>=2.11.0 in /Users/gvijaykumarachary/.pyenv/versions/3.10.13/lib/python3.10/site-packages (from mcp) (2.11.5)\n",
      "Requirement already satisfied: python-multipart>=0.0.9 in /Users/gvijaykumarachary/.pyenv/versions/3.10.13/lib/python3.10/site-packages (from mcp) (0.0.20)\n",
      "Collecting sse-starlette>=1.6.1 (from mcp)\n",
      "  Downloading sse_starlette-3.0.2-py3-none-any.whl.metadata (11 kB)\n",
      "Requirement already satisfied: starlette>=0.27 in /Users/gvijaykumarachary/.pyenv/versions/3.10.13/lib/python3.10/site-packages (from mcp) (0.46.2)\n",
      "Requirement already satisfied: uvicorn>=0.31.1 in /Users/gvijaykumarachary/.pyenv/versions/3.10.13/lib/python3.10/site-packages (from mcp) (0.35.0)\n",
      "Requirement already satisfied: annotated-types>=0.6.0 in /Users/gvijaykumarachary/.pyenv/versions/3.10.13/lib/python3.10/site-packages (from pydantic<3.0.0,>=2.11.0->mcp) (0.7.0)\n",
      "Requirement already satisfied: pydantic-core==2.33.2 in /Users/gvijaykumarachary/.pyenv/versions/3.10.13/lib/python3.10/site-packages (from pydantic<3.0.0,>=2.11.0->mcp) (2.33.2)\n",
      "Requirement already satisfied: typing-extensions>=4.12.2 in /Users/gvijaykumarachary/.pyenv/versions/3.10.13/lib/python3.10/site-packages (from pydantic<3.0.0,>=2.11.0->mcp) (4.14.1)\n",
      "Requirement already satisfied: typing-inspection>=0.4.0 in /Users/gvijaykumarachary/.pyenv/versions/3.10.13/lib/python3.10/site-packages (from pydantic<3.0.0,>=2.11.0->mcp) (0.4.1)\n",
      "Requirement already satisfied: exceptiongroup>=1.0.2 in /Users/gvijaykumarachary/.pyenv/versions/3.10.13/lib/python3.10/site-packages (from anyio>=4.5->mcp) (1.3.0)\n",
      "Requirement already satisfied: idna>=2.8 in /Users/gvijaykumarachary/.pyenv/versions/3.10.13/lib/python3.10/site-packages (from anyio>=4.5->mcp) (3.10)\n",
      "Requirement already satisfied: sniffio>=1.1 in /Users/gvijaykumarachary/.pyenv/versions/3.10.13/lib/python3.10/site-packages (from anyio>=4.5->mcp) (1.3.1)\n",
      "Requirement already satisfied: certifi in /Users/gvijaykumarachary/.pyenv/versions/3.10.13/lib/python3.10/site-packages (from httpx>=0.27.1->mcp) (2025.8.3)\n",
      "Requirement already satisfied: httpcore==1.* in /Users/gvijaykumarachary/.pyenv/versions/3.10.13/lib/python3.10/site-packages (from httpx>=0.27.1->mcp) (1.0.9)\n",
      "Requirement already satisfied: h11>=0.16 in /Users/gvijaykumarachary/.pyenv/versions/3.10.13/lib/python3.10/site-packages (from httpcore==1.*->httpx>=0.27.1->mcp) (0.16.0)\n",
      "Requirement already satisfied: attrs>=22.2.0 in /Users/gvijaykumarachary/.pyenv/versions/3.10.13/lib/python3.10/site-packages (from jsonschema>=4.20.0->mcp) (25.3.0)\n",
      "Requirement already satisfied: jsonschema-specifications>=2023.03.6 in /Users/gvijaykumarachary/.pyenv/versions/3.10.13/lib/python3.10/site-packages (from jsonschema>=4.20.0->mcp) (2025.4.1)\n",
      "Requirement already satisfied: referencing>=0.28.4 in /Users/gvijaykumarachary/.pyenv/versions/3.10.13/lib/python3.10/site-packages (from jsonschema>=4.20.0->mcp) (0.36.2)\n",
      "Requirement already satisfied: rpds-py>=0.7.1 in /Users/gvijaykumarachary/.pyenv/versions/3.10.13/lib/python3.10/site-packages (from jsonschema>=4.20.0->mcp) (0.25.1)\n",
      "Requirement already satisfied: python-dotenv>=0.21.0 in /Users/gvijaykumarachary/.pyenv/versions/3.10.13/lib/python3.10/site-packages (from pydantic-settings>=2.5.2->mcp) (1.1.0)\n",
      "Requirement already satisfied: click>=7.0 in /Users/gvijaykumarachary/.pyenv/versions/3.10.13/lib/python3.10/site-packages (from uvicorn>=0.31.1->mcp) (8.2.1)\n",
      "Downloading mcp-1.13.1-py3-none-any.whl (161 kB)\n",
      "Downloading httpx_sse-0.4.1-py3-none-any.whl (8.1 kB)\n",
      "Downloading sse_starlette-3.0.2-py3-none-any.whl (11 kB)\n",
      "Installing collected packages: httpx-sse, sse-starlette, mcp\n",
      "\u001b[2K   \u001b[90m━━━━━━━━━━━━━━━━━━━━━━━━━━━━━━━━━━━━━━━━\u001b[0m \u001b[32m3/3\u001b[0m [mcp]\n",
      "\u001b[1A\u001b[2KSuccessfully installed httpx-sse-0.4.1 mcp-1.13.1 sse-starlette-3.0.2\n"
     ]
    }
   ],
   "source": [
    "!pip install mcp"
   ]
  },
  {
   "cell_type": "code",
   "execution_count": 4,
   "id": "8cc83f9f",
   "metadata": {},
   "outputs": [],
   "source": [
    "from mcp.server.fastmcp import FastMCP\n",
    "import mysql.connector\n",
    "\n",
    "mcp = FastMCP(name=\"inventory_mcp\")\n"
   ]
  },
  {
   "cell_type": "code",
   "execution_count": 5,
   "id": "c8009705",
   "metadata": {},
   "outputs": [],
   "source": [
    "# MySQL config\n",
    "db_config = {\n",
    "    \"host\": \"localhost\",\n",
    "    \"user\": \"root\",       # change to your MySQL username\n",
    "    \"password\": \"\",  # change to your MySQL password\n",
    "    \"database\": \"datascience_schema\"\n",
    "}"
   ]
  },
  {
   "cell_type": "code",
   "execution_count": 7,
   "id": "ad80214d",
   "metadata": {},
   "outputs": [
    {
     "name": "stdout",
     "output_type": "stream",
     "text": [
      "❌ Connection failed: 1045 (28000): Access denied for user 'root'@'localhost' (using password: NO)\n"
     ]
    },
    {
     "data": {
      "text/plain": [
       "False"
      ]
     },
     "execution_count": 7,
     "metadata": {},
     "output_type": "execute_result"
    }
   ],
   "source": [
    "import mysql.connector\n",
    "from mysql.connector import Error\n",
    "\n",
    "def test_connection(config):\n",
    "    try:\n",
    "        connection = mysql.connector.connect(**config)\n",
    "        if connection.is_connected():\n",
    "            print(\"✅ Connection successful!\")\n",
    "            cursor = connection.cursor()\n",
    "            cursor.execute(\"SELECT DATABASE(), USER();\")\n",
    "            db_info = cursor.fetchone()\n",
    "            print(f\"Database: {db_info[0]}\")\n",
    "            print(f\"User: {db_info[1]}\")\n",
    "            cursor.close()\n",
    "            connection.close()\n",
    "            return True\n",
    "    except Error as e:\n",
    "        print(f\"❌ Connection failed: {e}\")\n",
    "        return False\n",
    "\n",
    "# Test with your config\n",
    "test_connection(db_config)"
   ]
  },
  {
   "cell_type": "code",
   "execution_count": 6,
   "id": "d07f1f3d",
   "metadata": {},
   "outputs": [],
   "source": [
    "@mcp.tool()\n",
    "def add_inventory(item_id: str, product_name: str, location: str, quantity: int) -> dict:\n",
    "    conn = mysql.connector.connect(**db_config)\n",
    "    cursor = conn.cursor()\n",
    "    cursor.execute(\n",
    "        \"INSERT INTO inventory (item_id, product_name, location, quantity) VALUES (%s, %s, %s, %s) \"\n",
    "        \"ON DUPLICATE KEY UPDATE quantity = quantity + %s, product_name = VALUES(product_name)\",\n",
    "        (item_id, product_name, location, quantity, quantity)\n",
    "    )\n",
    "    conn.commit()\n",
    "    conn.close()\n",
    "    return {\"message\": f\"Added {quantity} units of {product_name} ({item_id}) at {location}\"}\n",
    "\n"
   ]
  }
 ],
 "metadata": {
  "kernelspec": {
   "display_name": "3.10.13",
   "language": "python",
   "name": "python3"
  },
  "language_info": {
   "codemirror_mode": {
    "name": "ipython",
    "version": 3
   },
   "file_extension": ".py",
   "mimetype": "text/x-python",
   "name": "python",
   "nbconvert_exporter": "python",
   "pygments_lexer": "ipython3",
   "version": "3.10.13"
  }
 },
 "nbformat": 4,
 "nbformat_minor": 5
}
